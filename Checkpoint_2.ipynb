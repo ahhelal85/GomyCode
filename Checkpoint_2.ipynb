{
 "cells": [
  {
   "cell_type": "code",
   "execution_count": 2,
   "id": "411f9097",
   "metadata": {},
   "outputs": [
    {
     "name": "stdout",
     "output_type": "stream",
     "text": [
      "First Name? Ahmed\n",
      "Last Name? Helal\n",
      "Helal Ahmed\n"
     ]
    }
   ],
   "source": [
    "x = input(\"First Name? \")\n",
    "y = input(\"Last Name? \")\n",
    "print(y, x)"
   ]
  },
  {
   "cell_type": "code",
   "execution_count": 18,
   "id": "a95b5d35",
   "metadata": {},
   "outputs": [
    {
     "name": "stdout",
     "output_type": "stream",
     "text": [
      "Enter a number 5\n",
      "615\n"
     ]
    }
   ],
   "source": [
    "x = int(input(\"Enter a number \"))\n",
    "a = str(x)+str(x)\n",
    "b = str(x)+str(x)+str(x)\n",
    "print(int(x) + int(a)+ int(b))"
   ]
  },
  {
   "cell_type": "code",
   "execution_count": 20,
   "id": "a9e82114",
   "metadata": {},
   "outputs": [
    {
     "name": "stdout",
     "output_type": "stream",
     "text": [
      "Enter a number? 4\n",
      "4 is Even\n"
     ]
    }
   ],
   "source": [
    "x = int(input(\"Enter a number? \"))\n",
    "if (x % 2) == 0:\n",
    "    print(x, \"is Even\")\n",
    "else:\n",
    "    print(x, \"is Odd\")"
   ]
  },
  {
   "cell_type": "code",
   "execution_count": 32,
   "id": "b6981020",
   "metadata": {},
   "outputs": [
    {
     "name": "stdout",
     "output_type": "stream",
     "text": [
      "2002,2009,2016,2023,2037,2044,2051,2058,2072,2079,2086,2093,2107,2114,2121,2128,2142,2149,2156,2163,2177,2184,2191,2198,2212,2219,2226,2233,2247,2254,2261,2268,2282,2289,2296,2303,2317,2324,2331,2338,2352,2359,2366,2373,2387,2394,2401,2408,2422,2429,2436,2443,2457,2464,2471,2478,2492,2499,2506,2513,2527,2534,2541,2548,2562,2569,2576,2583,2597,2604,2611,2618,2632,2639,2646,2653,2667,2674,2681,2688,2702,2709,2716,2723,2737,2744,2751,2758,2772,2779,2786,2793,2807,2814,2821,2828,2842,2849,2856,2863,2877,2884,2891,2898,2912,2919,2926,2933,2947,2954,2961,2968,2982,2989,2996,3003,3017,3024,3031,3038,3052,3059,3066,3073,3087,3094,3101,3108,3122,3129,3136,3143,3157,3164,3171,3178,3192,3199,"
     ]
    }
   ],
   "source": [
    "for x in range(2000,3200):\n",
    "    if x % 7 == 0 and x % 5 != 0:\n",
    "        print(x, end=\",\")"
   ]
  },
  {
   "cell_type": "code",
   "execution_count": 3,
   "id": "f507981b",
   "metadata": {},
   "outputs": [
    {
     "name": "stdout",
     "output_type": "stream",
     "text": [
      "Input a number to compute the factiorial : 4\n",
      "24\n"
     ]
    }
   ],
   "source": [
    "def fact(n):\n",
    "    if n == 0:\n",
    "        return 1\n",
    "    else:\n",
    "        return n * fact(n-1)\n",
    "n=int(input(\"Input a number to compute the factiorial : \"))\n",
    "print(fact(n))"
   ]
  },
  {
   "cell_type": "code",
   "execution_count": 16,
   "id": "d90a0be0",
   "metadata": {},
   "outputs": [
    {
     "name": "stdout",
     "output_type": "stream",
     "text": [
      "Enter a name Hello Every Body\n",
      "HloEeyBd\n"
     ]
    }
   ],
   "source": [
    "def odd(x):\n",
    "  result = \"\" \n",
    "  for i in range(len(x)):\n",
    "    if i % 2 == 0:\n",
    "      result = result + x[i]\n",
    "  return result\n",
    "b = input(\"Enter a name \")\n",
    "print(odd(b))"
   ]
  },
  {
   "cell_type": "code",
   "execution_count": 13,
   "id": "e2fee3ad",
   "metadata": {},
   "outputs": [
    {
     "name": "stdout",
     "output_type": "stream",
     "text": [
      "Enter a price 500\n",
      "the discount is 50% =  250.0\n"
     ]
    }
   ],
   "source": [
    "i = int(input(\"Enter a price \"))\n",
    "if i >= 500:\n",
    "    print(\"the discount is 50% =\", i * 0.5)\n",
    "elif i <500 and i >200:\n",
    "    print(\"the discount is 30% =\", i * 0.3)\n",
    "else:\n",
    "    print(\"the discount is 10% =\", i * 0.1)"
   ]
  }
 ],
 "metadata": {
  "kernelspec": {
   "display_name": "Python 3 (ipykernel)",
   "language": "python",
   "name": "python3"
  },
  "language_info": {
   "codemirror_mode": {
    "name": "ipython",
    "version": 3
   },
   "file_extension": ".py",
   "mimetype": "text/x-python",
   "name": "python",
   "nbconvert_exporter": "python",
   "pygments_lexer": "ipython3",
   "version": "3.9.7"
  }
 },
 "nbformat": 4,
 "nbformat_minor": 5
}
