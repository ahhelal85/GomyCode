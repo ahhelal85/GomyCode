{
 "cells": [
  {
   "cell_type": "code",
   "execution_count": 25,
   "id": "1902d823",
   "metadata": {},
   "outputs": [
    {
     "name": "stdout",
     "output_type": "stream",
     "text": [
      "(1, 2, 3)\n"
     ]
    }
   ],
   "source": [
    "class Point3D:\n",
    "    def __init__(self, x, y, z):\n",
    "        self.x = x\n",
    "        self.y = y\n",
    "        self.z = z\n",
    "    def lessa(self):\n",
    "        print(tuple((self.x, self.y, self.z)))\n",
    "        \n",
    "my_point = Point3D(1, 2, 3)\n",
    "my_point.lessa()"
   ]
  },
  {
   "cell_type": "code",
   "execution_count": 9,
   "id": "4d50bc59",
   "metadata": {},
   "outputs": [
    {
     "data": {
      "text/plain": [
       "14"
      ]
     },
     "execution_count": 9,
     "metadata": {},
     "output_type": "execute_result"
    }
   ],
   "source": [
    "class Rectangle:\n",
    "    def __init__(self, length, width):\n",
    "        self.length = length\n",
    "        self.width = width\n",
    "    def area(self):\n",
    "        return self.length * self.width\n",
    "    def peri(self):\n",
    "        return 2 * (self.length + self.width)\n",
    "        \n",
    "my_rectangle = Rectangle(3,4)\n",
    "my_rectangle.area()\n",
    "my_rectangle.peri()"
   ]
  },
  {
   "cell_type": "code",
   "execution_count": 18,
   "id": "a3e90457",
   "metadata": {},
   "outputs": [
    {
     "name": "stdout",
     "output_type": "stream",
     "text": [
      "Enter the bank balance amount 50000\n",
      "Enter the bank withdraw amount 5000\n",
      "the bank amount is 45000\n"
     ]
    }
   ],
   "source": [
    "class Bank:\n",
    "    \n",
    "    def __init__(self, balance):\n",
    "          self.balance = balance\n",
    "    def deposit(self, dep):\n",
    "        self.dep = dep\n",
    "        self.balance = self.balance + self.dep\n",
    "    def withdraw(self, withd):\n",
    "        self.withd = withd\n",
    "        self.balance = self.balance - self.withd\n",
    "    def oba(self):\n",
    "        print(\"the bank amount is\", self.balance)\n",
    "p1 = Bank(int(input(\"Enter the bank balance amount \")))\n",
    "p1.deposit(int(input(\"Enter the bank deposit amount \")))\n",
    "p1.withdraw(int(input(\"Enter the bank withdraw amount \")))\n",
    "p1.oba()\n",
    "    "
   ]
  },
  {
   "cell_type": "code",
   "execution_count": 7,
   "id": "e6c0cfda",
   "metadata": {},
   "outputs": [
    {
     "name": "stdout",
     "output_type": "stream",
     "text": [
      "it is outside\n"
     ]
    }
   ],
   "source": [
    "class Circle:\n",
    "    def __init__(self, x, y, r):\n",
    "        self.x = x\n",
    "        self.y = y\n",
    "        self.r = r\n",
    "    def area(self):\n",
    "        return (3.14 * (self.r ** 2))\n",
    "    def peri(self):\n",
    "        return (3.14 * (self.r * 2))\n",
    "    def pointa(self, a, b):\n",
    "        self.a = a\n",
    "        self.b = b\n",
    "        if ((self.a - self.x)**2 + (self.b - self.y)**2) <= self.r**2:\n",
    "            print(\"it is inside\")\n",
    "        else:\n",
    "            print(\"it is outside\")\n",
    "\n",
    "hoksha.x = -1\n",
    "hoksha.y = 2\n",
    "hoksha.r = 2\n",
    "hoksha.area()\n",
    "hoksha.peri()\n",
    "hoksha.pointa(2,3)"
   ]
  },
  {
   "cell_type": "code",
   "execution_count": null,
   "id": "0f1cfc6c",
   "metadata": {},
   "outputs": [],
   "source": [
    "while True:\n",
    "    x = int(x + z)\n",
    "    print(\"if you want to add press 2\")\n",
    "    if input() == \"2\":\n",
    "        z = int(input(\"enter the number you want \"))\n",
    "        x = x + z\n",
    "        print(x)\n",
    "        z = 0\n",
    "    else:\n",
    "        x = 0\n",
    "        z = 0"
   ]
  }
 ],
 "metadata": {
  "kernelspec": {
   "display_name": "Python 3 (ipykernel)",
   "language": "python",
   "name": "python3"
  },
  "language_info": {
   "codemirror_mode": {
    "name": "ipython",
    "version": 3
   },
   "file_extension": ".py",
   "mimetype": "text/x-python",
   "name": "python",
   "nbconvert_exporter": "python",
   "pygments_lexer": "ipython3",
   "version": "3.9.7"
  }
 },
 "nbformat": 4,
 "nbformat_minor": 5
}
