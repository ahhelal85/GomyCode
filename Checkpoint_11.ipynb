{
 "cells": [
  {
   "cell_type": "code",
   "execution_count": 64,
   "id": "835c943a",
   "metadata": {},
   "outputs": [
    {
     "name": "stdout",
     "output_type": "stream",
     "text": [
      "Please enter name1 ahmed\n",
      "Please enter name2 hussein\n",
      "Your relation is  ['Marriage']\n"
     ]
    }
   ],
   "source": [
    "flames = [\"Friends\", \"Love\", \"Affection\", \"Marriage\", \"Enemy\", \"Siblings\"]\n",
    "x = list(str(input(\"Please enter name1 \")))\n",
    "y = list(str(input(\"Please enter name2 \")))\n",
    "z = []\n",
    "for i in x:\n",
    "    if i not in y:\n",
    "        z.append(i)\n",
    "for e in y:\n",
    "    if e not in x:\n",
    "        z.append(e)\n",
    "while len(flames)>1:\n",
    "        new = (len(z)%len(flames))-1\n",
    "        flames.pop(new)\n",
    "        if len(flames)>1:\n",
    "                new = (len(z)%len(flames))-2\n",
    "                flames.pop(new)\n",
    "print(\"Your relation is \", flames)"
   ]
  },
  {
   "cell_type": "code",
   "execution_count": null,
   "id": "713510d4",
   "metadata": {},
   "outputs": [],
   "source": []
  }
 ],
 "metadata": {
  "kernelspec": {
   "display_name": "Python 3 (ipykernel)",
   "language": "python",
   "name": "python3"
  },
  "language_info": {
   "codemirror_mode": {
    "name": "ipython",
    "version": 3
   },
   "file_extension": ".py",
   "mimetype": "text/x-python",
   "name": "python",
   "nbconvert_exporter": "python",
   "pygments_lexer": "ipython3",
   "version": "3.9.7"
  }
 },
 "nbformat": 4,
 "nbformat_minor": 5
}
