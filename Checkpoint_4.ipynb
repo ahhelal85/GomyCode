{
 "cells": [
  {
   "cell_type": "code",
   "execution_count": 6,
   "id": "e8505fe5",
   "metadata": {},
   "outputs": [
    {
     "name": "stdout",
     "output_type": "stream",
     "text": [
      "35\n"
     ]
    }
   ],
   "source": [
    "z = max(20, 35, 15)\n",
    "print(z)"
   ]
  },
  {
   "cell_type": "code",
   "execution_count": 9,
   "id": "4f2e5903",
   "metadata": {},
   "outputs": [
    {
     "data": {
      "text/plain": [
       "(50, 30)"
      ]
     },
     "execution_count": 9,
     "metadata": {},
     "output_type": "execute_result"
    }
   ],
   "source": [
    "def obalala(a,y):\n",
    "    return (a+y,a-y)\n",
    "obalala(40, 10)"
   ]
  },
  {
   "cell_type": "code",
   "execution_count": 62,
   "id": "61fb04e5",
   "metadata": {},
   "outputs": [
    {
     "name": "stdout",
     "output_type": "stream",
     "text": [
      "11 15\n"
     ]
    }
   ],
   "source": [
    "x = [1,3,4,5,6]\n",
    "y = x[0:len(x):2]\n",
    "z = x[1:len(x):2]\n",
    "\n",
    "def hoba(a):\n",
    "    result = 0\n",
    "    for x in a:\n",
    "        result = x + result\n",
    "    return result\n",
    "def hoba1(b):\n",
    "    result = 1\n",
    "    for x in b:\n",
    "        result = x * result\n",
    "    return result\n",
    "\n",
    "print(hoba(y),hoba1(z))\n"
   ]
  },
  {
   "cell_type": "code",
   "execution_count": 28,
   "id": "6bb944b5",
   "metadata": {},
   "outputs": [
    {
     "name": "stdout",
     "output_type": "stream",
     "text": [
      "black-green-red-white-yellow\n"
     ]
    }
   ],
   "source": [
    "q = \"green-red-yellow-black-white\"\n",
    "y = q.split(\"-\")\n",
    "y.sort()\n",
    "for i in y:\n",
    "    if y.index(i)>=len(y)-1:\n",
    "        print(i)\n",
    "        break\n",
    "    print(i,end=\"-\")"
   ]
  },
  {
   "cell_type": "code",
   "execution_count": 27,
   "id": "eda43faa",
   "metadata": {},
   "outputs": [
    {
     "name": "stdout",
     "output_type": "stream",
     "text": [
      "Enter numbers , separate  100,150,180\n",
      "18\n",
      "22\n",
      "24\n"
     ]
    }
   ],
   "source": [
    "b = (input(\"Enter numbers , separate  \"))\n",
    "c = b.split(\",\")\n",
    "def square(d):\n",
    "    return ((2 * 50 * d)/30)**0.5\n",
    "for i in range(len(c)):\n",
    "    c[i] = float(c[i])\n",
    "    print(int(square(c[i])))\n",
    "   "
   ]
  }
 ],
 "metadata": {
  "kernelspec": {
   "display_name": "Python 3 (ipykernel)",
   "language": "python",
   "name": "python3"
  },
  "language_info": {
   "codemirror_mode": {
    "name": "ipython",
    "version": 3
   },
   "file_extension": ".py",
   "mimetype": "text/x-python",
   "name": "python",
   "nbconvert_exporter": "python",
   "pygments_lexer": "ipython3",
   "version": "3.9.7"
  }
 },
 "nbformat": 4,
 "nbformat_minor": 5
}
