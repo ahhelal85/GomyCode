{
 "cells": [
  {
   "cell_type": "code",
   "execution_count": 3,
   "id": "a97d26d5",
   "metadata": {},
   "outputs": [
    {
     "name": "stdout",
     "output_type": "stream",
     "text": [
      "['Hello, Hamada?\\n', 'How Are You?\\n', '\\n', 'This is the best day of my life.']\n"
     ]
    }
   ],
   "source": [
    "f = open(\"C:/Users/ahhel/OneDrive/Desktop/new_file_1.txt\",\"r\")\n",
    "print(f.readlines())\n",
    "f.close()"
   ]
  },
  {
   "cell_type": "code",
   "execution_count": 4,
   "id": "064281fd",
   "metadata": {},
   "outputs": [
    {
     "name": "stdout",
     "output_type": "stream",
     "text": [
      "Hello, Hamada?\n",
      "\n"
     ]
    }
   ],
   "source": [
    "f = open(\"C:/Users/ahhel/OneDrive/Desktop/new_file_1.txt\",\"r\")\n",
    "print(f.readline())\n",
    "f.close()"
   ]
  },
  {
   "cell_type": "code",
   "execution_count": 8,
   "id": "fb281b2e",
   "metadata": {},
   "outputs": [
    {
     "name": "stdout",
     "output_type": "stream",
     "text": [
      "Hello, Hamada?\n",
      "\n",
      "How Are You?\n",
      "\n",
      "\n",
      "\n",
      "This is the best day of my life.\n"
     ]
    }
   ],
   "source": [
    "f = open(\"C:/Users/ahhel/OneDrive/Desktop/new_file_1.txt\",\"r\")\n",
    "for i in f:\n",
    "    print(i)\n",
    "f.close()"
   ]
  },
  {
   "cell_type": "code",
   "execution_count": 7,
   "id": "594f2ae0",
   "metadata": {},
   "outputs": [
    {
     "name": "stdout",
     "output_type": "stream",
     "text": [
      "This is the best day of my life.\n"
     ]
    }
   ],
   "source": [
    "f = open(\"C:/Users/ahhel/OneDrive/Desktop/new_file_1.txt\",\"r\")\n",
    "x = f.readlines()\n",
    "print(x[len(x)-1])\n",
    "f.close()"
   ]
  },
  {
   "cell_type": "code",
   "execution_count": 45,
   "id": "ab41e227",
   "metadata": {},
   "outputs": [
    {
     "name": "stdout",
     "output_type": "stream",
     "text": [
      "['Hello,', 'Hamada?']\n",
      "['How', 'Are', 'You?']\n",
      "[]\n",
      "['This', 'is', 'the', 'best', 'day', 'of', 'my', 'life.']\n",
      "13\n"
     ]
    }
   ],
   "source": [
    "f = open(\"C:/Users/ahhel/OneDrive/Desktop/new_file_1.txt\",\"r\")\n",
    "result = 0\n",
    "for i in f:\n",
    "    j = i.split()\n",
    "    result = result + len(j)\n",
    "    print(j)\n",
    "print(result)\n",
    "f.close()"
   ]
  },
  {
   "cell_type": "code",
   "execution_count": 50,
   "id": "b13c7b63",
   "metadata": {},
   "outputs": [
    {
     "name": "stdout",
     "output_type": "stream",
     "text": [
      "['Hello how are you?\\n', 'Exapoza\\n', '\\n', 'Still Want it']\n"
     ]
    }
   ],
   "source": [
    "y = open(\"C:/Users/ahhel/OneDrive/Desktop/new_file_5.txt\",\"x\")\n",
    "y.write(\"Hello how are you?\\n\")\n",
    "y.write(\"Exapoza\\n\\n\")\n",
    "y.write(\"Still Want it\")\n",
    "y.close()\n",
    "f = open(\"C:/Users/ahhel/OneDrive/Desktop/new_file_4.txt\",\"r\")\n",
    "print(f.readlines())\n",
    "f.close()"
   ]
  },
  {
   "cell_type": "code",
   "execution_count": null,
   "id": "c35215ec",
   "metadata": {},
   "outputs": [],
   "source": []
  }
 ],
 "metadata": {
  "kernelspec": {
   "display_name": "Python 3 (ipykernel)",
   "language": "python",
   "name": "python3"
  },
  "language_info": {
   "codemirror_mode": {
    "name": "ipython",
    "version": 3
   },
   "file_extension": ".py",
   "mimetype": "text/x-python",
   "name": "python",
   "nbconvert_exporter": "python",
   "pygments_lexer": "ipython3",
   "version": "3.9.7"
  }
 },
 "nbformat": 4,
 "nbformat_minor": 5
}
