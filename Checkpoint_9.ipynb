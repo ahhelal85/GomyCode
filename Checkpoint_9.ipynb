{
 "cells": [
  {
   "cell_type": "code",
   "execution_count": 3,
   "id": "a4940be3",
   "metadata": {},
   "outputs": [
    {
     "name": "stdout",
     "output_type": "stream",
     "text": [
      "Value not found\n"
     ]
    }
   ],
   "source": [
    "def binary_search(seq, item):\n",
    "    beg_i = 0\n",
    "    end_i = len(seq) - 1\n",
    "    while beg_i<=end_i:\n",
    "        mid_point = beg_i + (end_i-beg_i) // 2\n",
    "        mid_value = seq[mid_point]\n",
    "        if item==mid_value:\n",
    "            return mid_point\n",
    "        elif item<mid_value:\n",
    "            end_i = mid_point -1\n",
    "        else:\n",
    "            beg_i = mid_point +1\n",
    "    return \"Value not found\"\n",
    "seq1 = [1,3,6,7,9,15,17]\n",
    "item1 = 16\n",
    "print(binary_search(seq1, item1))"
   ]
  },
  {
   "cell_type": "code",
   "execution_count": 4,
   "id": "4b29ac8e",
   "metadata": {},
   "outputs": [
    {
     "name": "stdout",
     "output_type": "stream",
     "text": [
      "81\n"
     ]
    }
   ],
   "source": [
    "def power(x,y):\n",
    "    z = x**y\n",
    "    return z\n",
    "print(power(3,4))"
   ]
  },
  {
   "cell_type": "code",
   "execution_count": 7,
   "id": "f617f48f",
   "metadata": {},
   "outputs": [
    {
     "name": "stdout",
     "output_type": "stream",
     "text": [
      "81\n"
     ]
    }
   ],
   "source": [
    "z = lambda x,y : x**y\n",
    "print(z(3,4))"
   ]
  },
  {
   "cell_type": "code",
   "execution_count": 17,
   "id": "e02ea0f5",
   "metadata": {},
   "outputs": [
    {
     "name": "stdout",
     "output_type": "stream",
     "text": [
      "[2, 3, 4, 5, 7, 8]\n"
     ]
    }
   ],
   "source": [
    "def bubble(sequence):\n",
    "    for j in sequence:\n",
    "        for i in range(len(sequence)-1):\n",
    "            if sequence[i]>sequence[i+1]:\n",
    "                sequence[i],sequence[i+1] = sequence[i+1],sequence[i]\n",
    "    return sequence\n",
    "seq1 = [8,3,5,2,7,4]\n",
    "print(bubble(seq1))"
   ]
  },
  {
   "cell_type": "code",
   "execution_count": 24,
   "id": "3206733d",
   "metadata": {},
   "outputs": [
    {
     "name": "stdout",
     "output_type": "stream",
     "text": [
      "[1, 2, 5, 8, 17, 20, 30]\n"
     ]
    }
   ],
   "source": [
    "def merge(seq):\n",
    "    if len(seq)>1:\n",
    "        mid = len(seq)//2\n",
    "        left = seq[:mid]\n",
    "        right = seq[mid:]\n",
    "        \n",
    "        merge(left)\n",
    "        merge(right)\n",
    "        \n",
    "        a = 0; b = 0; c = 0 \n",
    "        \n",
    "        while a < len(left) and b <len(right):\n",
    "            if left[a]<right[b]:\n",
    "                seq[c] = left[a]\n",
    "                a +=1\n",
    "            else:\n",
    "                seq[c] = right[b]\n",
    "                b +=1\n",
    "            c +=1\n",
    "            \n",
    "        while a < len(left):\n",
    "            seq[c] = left[a]\n",
    "            a +=1\n",
    "            c +=1\n",
    "        while b < len(right):\n",
    "            seq[c] = right[b]\n",
    "            b +=1\n",
    "            c +=1\n",
    "seq = [5,8,20,1,2,30,17]\n",
    "merge(seq)\n",
    "print(seq)"
   ]
  },
  {
   "cell_type": "code",
   "execution_count": null,
   "id": "3d98d872",
   "metadata": {},
   "outputs": [],
   "source": [
    "def Qsort(array, low, high):\n",
    "    if (low < high):\n",
    "        pivot = low\n",
    "        i = low\n",
    "        j = high\n",
    " \n",
    "        while (i < j):     \n",
    "            while array[i] <= array[pivot] and i < high:   \n",
    "                i += 1\n",
    "            while array[j] > array[pivot]:                  \n",
    "                j -= 1\n",
    " \n",
    "            if (i < j):\n",
    "                array[i], array[j] = array[j], array[i]\n",
    "                 \n",
    "        array[pivot], array[j] = array[j], array[pivot]\n",
    "        Qsort(array, low, j - 1)\n",
    "        Qsort(array, j + 1, high)\n",
    "        return array\n",
    " \n",
    "    else:\n",
    "      return array\n",
    "array = [2,3,6,1,7,30,5,8,0]\n",
    "low = 0\n",
    "high = len(array)-1\n",
    "print(Qsort(array, low, high))"
   ]
  }
 ],
 "metadata": {
  "kernelspec": {
   "display_name": "Python 3 (ipykernel)",
   "language": "python",
   "name": "python3"
  },
  "language_info": {
   "codemirror_mode": {
    "name": "ipython",
    "version": 3
   },
   "file_extension": ".py",
   "mimetype": "text/x-python",
   "name": "python",
   "nbconvert_exporter": "python",
   "pygments_lexer": "ipython3",
   "version": "3.9.7"
  }
 },
 "nbformat": 4,
 "nbformat_minor": 5
}
