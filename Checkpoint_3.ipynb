{
 "cells": [
  {
   "cell_type": "code",
   "execution_count": 12,
   "id": "014d1afa",
   "metadata": {},
   "outputs": [
    {
     "name": "stdout",
     "output_type": "stream",
     "text": [
      "Hll\n"
     ]
    }
   ],
   "source": [
    "x = \"Helal\"\n",
    "print(x[0:len(x):2])"
   ]
  },
  {
   "cell_type": "code",
   "execution_count": 47,
   "id": "097b9a8e",
   "metadata": {},
   "outputs": [
    {
     "name": "stdout",
     "output_type": "stream",
     "text": [
      "36\n"
     ]
    }
   ],
   "source": [
    "a = [2, 3, 6]\n",
    "z = len(a)-1\n",
    "sum = 0\n",
    "while z >= 0:\n",
    "    b = a[z] * a[z-1]\n",
    "    sum = sum + b\n",
    "    z = z-1\n",
    "print(sum)"
   ]
  },
  {
   "cell_type": "code",
   "execution_count": 65,
   "id": "3c9b698f",
   "metadata": {},
   "outputs": [
    {
     "name": "stdout",
     "output_type": "stream",
     "text": [
      "36\n"
     ]
    }
   ],
   "source": [
    "a = [2, 3, 6]\n",
    "\n",
    "def hoba(a):\n",
    "    result = 1\n",
    "    for x in a:\n",
    "        result = x * result\n",
    "    return result\n",
    "print(hoba(a))"
   ]
  },
  {
   "cell_type": "code",
   "execution_count": 15,
   "id": "257efdd8",
   "metadata": {},
   "outputs": [
    {
     "name": "stdout",
     "output_type": "stream",
     "text": [
      "36\n"
     ]
    }
   ],
   "source": [
    "a = [2, 3, 6]\n",
    "result = 1\n",
    "for x in a:\n",
    "    result = result * x\n",
    "print(result)"
   ]
  },
  {
   "cell_type": "code",
   "execution_count": 8,
   "id": "909b0219",
   "metadata": {},
   "outputs": [
    {
     "name": "stdout",
     "output_type": "stream",
     "text": [
      "[(2, 1), (1, 2), (2, 3), (4, 4), (2, 5)]\n"
     ]
    }
   ],
   "source": [
    "def last(n):\n",
    "    return n[-1]\n",
    "def sort_list_last(tuples):  \n",
    "  return sorted(tuples, key=last)\n",
    "tuples = ([(2, 5), (1, 2), (4, 4), (2, 3), (2, 1)])\n",
    "print(sort_list_last(tuples))"
   ]
  },
  {
   "cell_type": "code",
   "execution_count": 46,
   "id": "94bb0838",
   "metadata": {},
   "outputs": [
    {
     "name": "stdout",
     "output_type": "stream",
     "text": [
      "{'a': 400, 'b': 400, 'c': 300, 'f': 5, 'd': 400, 'e': 25}\n"
     ]
    }
   ],
   "source": [
    "dict1 = {'a': 100, 'b': 200, 'c':300,'f':5}\n",
    "dict2 = {'a': 300, 'b': 200, 'd':400, 'e':25}\n",
    "a = set(dict1.keys())\n",
    "b = set(dict2.keys())\n",
    "c = list(b.intersection(a))\n",
    "for i in range(len(c)):\n",
    "    z = dict1.get(c[i])+dict2.get(c[i])\n",
    "    dict2[c[i]] = z\n",
    "    \n",
    "dict1.update(dict2)\n",
    "print(dict1)"
   ]
  },
  {
   "cell_type": "code",
   "execution_count": 28,
   "id": "a84f5990",
   "metadata": {},
   "outputs": [
    {
     "name": "stdout",
     "output_type": "stream",
     "text": [
      "[('item3', 24.5), ('item2', 15.1), ('item1', 12.2)]\n"
     ]
    }
   ],
   "source": [
    "def last(n):\n",
    "    return n[-1]\n",
    "def sort_list_last(y):  \n",
    "  return sorted(y, key=last, reverse=True)\n",
    "y = [('item1', 12.20), ('item2', 15.10), ('item3', 24.5)]\n",
    "print(sort_list_last(y))"
   ]
  },
  {
   "cell_type": "code",
   "execution_count": 90,
   "id": "5ea13809",
   "metadata": {},
   "outputs": [
    {
     "name": "stdout",
     "output_type": "stream",
     "text": [
      "Enter a number? 8\n",
      "{1: 1, 2: 4, 3: 9, 4: 16, 5: 25, 6: 36, 7: 49, 8: 64}\n"
     ]
    }
   ],
   "source": [
    "n = int(input(\"Enter a number? \"))\n",
    "\n",
    "dict1 = {}\n",
    "for i in range(1,n+1):\n",
    "    b = i * i\n",
    "    dict1.update({i:b})\n",
    "print(dict1)"
   ]
  }
 ],
 "metadata": {
  "kernelspec": {
   "display_name": "Python 3 (ipykernel)",
   "language": "python",
   "name": "python3"
  },
  "language_info": {
   "codemirror_mode": {
    "name": "ipython",
    "version": 3
   },
   "file_extension": ".py",
   "mimetype": "text/x-python",
   "name": "python",
   "nbconvert_exporter": "python",
   "pygments_lexer": "ipython3",
   "version": "3.9.7"
  }
 },
 "nbformat": 4,
 "nbformat_minor": 5
}
